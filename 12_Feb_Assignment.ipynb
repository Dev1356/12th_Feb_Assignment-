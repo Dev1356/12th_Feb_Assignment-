{
 "cells": [
  {
   "cell_type": "markdown",
   "id": "5b1fe836-99a6-4d46-b56a-bc51e580d419",
   "metadata": {},
   "source": [
    "# Q.1\n",
    "# Exceptions in Python\n",
    "\n",
    "An exception is an event that occurs during the execution of a program and disrupts the normal flow of instructions. When a script encounters a situation it cannot handle, it raises an exception.\n",
    "\n",
    "### Difference Between Exceptions and Syntax Errors\n",
    "\n",
    "#### Exceptions\n",
    "- **Definition**: Errors that occur during execution.\n",
    "- **When It Occurs**: At runtime.\n",
    "- **Examples**: `ZeroDivisionError`, `ValueError`, `IndexError`.\n",
    "- **Handling**: Managed using `try`, `except`, `else`, and `finally`.\n"
   ]
  },
  {
   "cell_type": "code",
   "execution_count": 1,
   "id": "37a86100-0f49-4f97-8fca-de714230dbf6",
   "metadata": {},
   "outputs": [
    {
     "name": "stdout",
     "output_type": "stream",
     "text": [
      "You can't divide by zero!\n"
     ]
    }
   ],
   "source": [
    "try:\n",
    "    result = 10 / 0\n",
    "except ZeroDivisionError:\n",
    "    print(\"You can't divide by zero!\")"
   ]
  },
  {
   "cell_type": "code",
   "execution_count": null,
   "id": "1d825201-a707-4ac1-98b2-f8fd5d3d8c32",
   "metadata": {},
   "outputs": [],
   "source": []
  },
  {
   "cell_type": "markdown",
   "id": "60094cec-f54d-4132-af4c-c4ea374f9e51",
   "metadata": {},
   "source": [
    "# Q.2\n",
    "## What Happens When an Exception Is Not Handled?\n",
    "\n",
    "When an exception is not handled in Python, it causes the program to terminate abruptly. The interpreter prints a traceback of the error to the console, which includes details about the exception type and the line of code where the exception occurred.\n",
    "\n",
    "### Example\n",
    "\n",
    "Consider the following code with an unhandled exception:\n",
    "\n"
   ]
  },
  {
   "cell_type": "code",
   "execution_count": 2,
   "id": "4244f960-b2e8-45f0-af8d-b4148511e14c",
   "metadata": {},
   "outputs": [
    {
     "ename": "ZeroDivisionError",
     "evalue": "division by zero",
     "output_type": "error",
     "traceback": [
      "\u001b[0;31m---------------------------------------------------------------------------\u001b[0m",
      "\u001b[0;31mZeroDivisionError\u001b[0m                         Traceback (most recent call last)",
      "Cell \u001b[0;32mIn[2], line 5\u001b[0m\n\u001b[1;32m      2\u001b[0m     \u001b[38;5;28;01mreturn\u001b[39;00m a \u001b[38;5;241m/\u001b[39m b\n\u001b[1;32m      4\u001b[0m \u001b[38;5;66;03m# Function call with b = 0, which will raise an exception\u001b[39;00m\n\u001b[0;32m----> 5\u001b[0m result \u001b[38;5;241m=\u001b[39m \u001b[43mdivide_numbers\u001b[49m\u001b[43m(\u001b[49m\u001b[38;5;241;43m10\u001b[39;49m\u001b[43m,\u001b[49m\u001b[43m \u001b[49m\u001b[38;5;241;43m0\u001b[39;49m\u001b[43m)\u001b[49m\n\u001b[1;32m      6\u001b[0m \u001b[38;5;28mprint\u001b[39m(result)\n",
      "Cell \u001b[0;32mIn[2], line 2\u001b[0m, in \u001b[0;36mdivide_numbers\u001b[0;34m(a, b)\u001b[0m\n\u001b[1;32m      1\u001b[0m \u001b[38;5;28;01mdef\u001b[39;00m \u001b[38;5;21mdivide_numbers\u001b[39m(a, b):\n\u001b[0;32m----> 2\u001b[0m     \u001b[38;5;28;01mreturn\u001b[39;00m \u001b[43ma\u001b[49m\u001b[43m \u001b[49m\u001b[38;5;241;43m/\u001b[39;49m\u001b[43m \u001b[49m\u001b[43mb\u001b[49m\n",
      "\u001b[0;31mZeroDivisionError\u001b[0m: division by zero"
     ]
    }
   ],
   "source": [
    "def divide_numbers(a, b):\n",
    "    return a / b\n",
    "\n",
    "# Function call with b = 0, which will raise an exception\n",
    "result = divide_numbers(10, 0)\n",
    "print(result)"
   ]
  },
  {
   "cell_type": "code",
   "execution_count": null,
   "id": "246cc351-12de-4e28-9e6e-980344850fc9",
   "metadata": {},
   "outputs": [],
   "source": []
  },
  {
   "cell_type": "markdown",
   "id": "03f13f1f-d182-49ab-a0ba-7dc4f03b22e1",
   "metadata": {},
   "source": [
    "# Q.3\n",
    "## Python Statements for Handling Exceptions\n",
    "\n",
    "Python provides specific statements to handle exceptions and manage errors gracefully. The primary statements used are `try`, `except`, `else`, and `finally`.\n",
    "\n",
    "### Statements\n",
    "\n",
    "1. **`try`**: Contains code that might raise an exception.\n",
    "2. **`except`**: Catches and handles exceptions raised in the `try` block.\n",
    "3. **`else`**: Executes if no exceptions are raised in the `try` block.\n",
    "4. **`finally`**: Always executes, regardless of whether an exception was raised or not.\n",
    "\n",
    "### Example\n",
    "\n"
   ]
  },
  {
   "cell_type": "code",
   "execution_count": 3,
   "id": "519a4253-3bb2-4720-b3e6-c96a9245f7e4",
   "metadata": {},
   "outputs": [
    {
     "name": "stdin",
     "output_type": "stream",
     "text": [
      "Enter a number:  1000\n"
     ]
    },
    {
     "name": "stdout",
     "output_type": "stream",
     "text": [
      "The result is 0.01.\n",
      "Execution completed.\n"
     ]
    }
   ],
   "source": [
    "try:\n",
    "    # Code that may raise an exception\n",
    "    result = 10 / int(input(\"Enter a number: \"))\n",
    "except ZeroDivisionError:\n",
    "    # Code to handle division by zero\n",
    "    print(\"You can't divide by zero!\")\n",
    "except ValueError:\n",
    "    # Code to handle invalid input\n",
    "    print(\"Invalid input. Please enter a number.\")\n",
    "else:\n",
    "    # Code to execute if no exception occurs\n",
    "    print(f\"The result is {result}.\")\n",
    "finally:\n",
    "    # Code that always executes\n",
    "    print(\"Execution completed.\")"
   ]
  },
  {
   "cell_type": "code",
   "execution_count": null,
   "id": "d5d6c904-64f9-4294-8068-6876ad8af6c8",
   "metadata": {},
   "outputs": [],
   "source": []
  },
  {
   "cell_type": "markdown",
   "id": "a51eec1c-ee1e-4ab5-9643-2f4e6c1b5ffe",
   "metadata": {},
   "source": [
    "# Q.5\n",
    "## Custom Exceptions in Python\n",
    "\n",
    "Custom exceptions are user-defined classes that extend the built-in `Exception` class. They are used to create specific error types that are more meaningful within the context of an application or library.\n",
    "\n",
    "### Why Do We Need Custom Exceptions?\n",
    "\n",
    "1. **Clarity**: They make error handling more descriptive and relevant to the specific domain of the application.\n",
    "2. **Control**: Allows more granular control over error types and handling.\n",
    "3. **Debugging**: Improves debugging by providing more context-specific error information.\n",
    "\n",
    "### Example\n",
    "\n",
    "Let's define a custom exception and use it in a function:\n",
    "\n"
   ]
  },
  {
   "cell_type": "code",
   "execution_count": 4,
   "id": "e61c46cb-9a40-4a2a-9169-3e3780365921",
   "metadata": {},
   "outputs": [
    {
     "name": "stdout",
     "output_type": "stream",
     "text": [
      "Error: Age cannot be negative.\n",
      "Age setting process completed.\n"
     ]
    }
   ],
   "source": [
    "class NegativeValueError(Exception):\n",
    "    \"\"\"Custom exception for negative values.\"\"\"\n",
    "    pass\n",
    "\n",
    "def set_age(age):\n",
    "    if age < 0:\n",
    "        raise NegativeValueError(\"Age cannot be negative.\")\n",
    "    print(f\"Age set to {age}.\")\n",
    "\n",
    "try:\n",
    "    set_age(-5)\n",
    "except NegativeValueError as e:\n",
    "    print(f\"Error: {e}\")\n",
    "finally:\n",
    "    print(\"Age setting process completed.\")"
   ]
  },
  {
   "cell_type": "code",
   "execution_count": null,
   "id": "afcad47a-f749-49bb-9122-7868998bc0d5",
   "metadata": {},
   "outputs": [],
   "source": []
  }
 ],
 "metadata": {
  "kernelspec": {
   "display_name": "Python 3 (ipykernel)",
   "language": "python",
   "name": "python3"
  },
  "language_info": {
   "codemirror_mode": {
    "name": "ipython",
    "version": 3
   },
   "file_extension": ".py",
   "mimetype": "text/x-python",
   "name": "python",
   "nbconvert_exporter": "python",
   "pygments_lexer": "ipython3",
   "version": "3.10.8"
  }
 },
 "nbformat": 4,
 "nbformat_minor": 5
}
